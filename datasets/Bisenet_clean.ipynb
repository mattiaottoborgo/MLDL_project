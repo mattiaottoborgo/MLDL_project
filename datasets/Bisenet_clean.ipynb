{
 "cells": [
  {
   "cell_type": "code",
   "execution_count": 3,
   "id": "fbd3dbfc-9be9-4622-9536-b4bffa9f4152",
   "metadata": {},
   "outputs": [
    {
     "ename": "FileNotFoundError",
     "evalue": "[Errno 2] No such file or directory: './datasets/Cityscapes/Cityscapes/Cityspaces/images/train'",
     "output_type": "error",
     "traceback": [
      "\u001b[0;31m---------------------------------------------------------------------------\u001b[0m",
      "\u001b[0;31mFileNotFoundError\u001b[0m                         Traceback (most recent call last)",
      "Cell \u001b[0;32mIn[3], line 12\u001b[0m\n\u001b[1;32m      9\u001b[0m annotation_val\u001b[38;5;241m=\u001b[39mdataset_path\u001b[38;5;241m+\u001b[39m\u001b[38;5;124m'\u001b[39m\u001b[38;5;124mgtFine/val\u001b[39m\u001b[38;5;124m'\u001b[39m\n\u001b[1;32m     10\u001b[0m image_val\u001b[38;5;241m=\u001b[39mdataset_path\u001b[38;5;241m+\u001b[39m\u001b[38;5;124m'\u001b[39m\u001b[38;5;124mimages/val\u001b[39m\u001b[38;5;124m'\u001b[39m\n\u001b[0;32m---> 12\u001b[0m cityscapes_train \u001b[38;5;241m=\u001b[39m \u001b[43mCityScapes\u001b[49m\u001b[43m(\u001b[49m\u001b[43mannotations_dir\u001b[49m\u001b[38;5;241;43m=\u001b[39;49m\u001b[43mannotation_train\u001b[49m\u001b[43m,\u001b[49m\u001b[43m \u001b[49m\u001b[43mimages_dir\u001b[49m\u001b[38;5;241;43m=\u001b[39;49m\u001b[43mimage_train\u001b[49m\u001b[43m)\u001b[49m\n\u001b[1;32m     13\u001b[0m cityscapes_val \u001b[38;5;241m=\u001b[39m CityScapes(annotations_dir\u001b[38;5;241m=\u001b[39mannotation_val, images_dir\u001b[38;5;241m=\u001b[39mimage_val)\n\u001b[1;32m     14\u001b[0m \u001b[38;5;28mprint\u001b[39m(cityscapes_train\u001b[38;5;241m.\u001b[39m\u001b[38;5;21m__len__\u001b[39m())\n",
      "File \u001b[0;32m~/MLDL/MLDL_project/datasets/datasets/cityscapes.py:24\u001b[0m, in \u001b[0;36mCityScapes.__init__\u001b[0;34m(self, annotations_dir, images_dir, transform, target_transform)\u001b[0m\n\u001b[1;32m     21\u001b[0m \u001b[38;5;28mself\u001b[39m\u001b[38;5;241m.\u001b[39mmap_index_to_image \u001b[38;5;241m=\u001b[39m {}\n\u001b[1;32m     22\u001b[0m \u001b[38;5;28mself\u001b[39m\u001b[38;5;241m.\u001b[39mmap_index_to_annotation \u001b[38;5;241m=\u001b[39m {}\n\u001b[0;32m---> 24\u001b[0m counter\u001b[38;5;241m=\u001b[39m\u001b[38;5;28;43mself\u001b[39;49m\u001b[38;5;241;43m.\u001b[39;49m\u001b[43mgenerate_map_images\u001b[49m\u001b[43m(\u001b[49m\u001b[43mpath\u001b[49m\u001b[38;5;241;43m=\u001b[39;49m\u001b[38;5;28;43mself\u001b[39;49m\u001b[38;5;241;43m.\u001b[39;49m\u001b[43mimages_dir\u001b[49m\u001b[43m)\u001b[49m\n\u001b[1;32m     25\u001b[0m \u001b[38;5;66;03m#print(counter)\u001b[39;00m\n\u001b[1;32m     26\u001b[0m counter\u001b[38;5;241m=\u001b[39m\u001b[38;5;28mself\u001b[39m\u001b[38;5;241m.\u001b[39mgenerate_map_annotations(path\u001b[38;5;241m=\u001b[39m\u001b[38;5;28mself\u001b[39m\u001b[38;5;241m.\u001b[39mannotations_dir)\n",
      "File \u001b[0;32m~/MLDL/MLDL_project/datasets/datasets/cityscapes.py:40\u001b[0m, in \u001b[0;36mCityScapes.generate_map_images\u001b[0;34m(self, path, counter)\u001b[0m\n\u001b[1;32m     38\u001b[0m \u001b[38;5;28;01mdef\u001b[39;00m \u001b[38;5;21mgenerate_map_images\u001b[39m(\u001b[38;5;28mself\u001b[39m,path\u001b[38;5;241m=\u001b[39m\u001b[38;5;124m'\u001b[39m\u001b[38;5;124m.\u001b[39m\u001b[38;5;124m'\u001b[39m,counter\u001b[38;5;241m=\u001b[39m\u001b[38;5;241m0\u001b[39m):\n\u001b[0;32m---> 40\u001b[0m     \u001b[38;5;28;01mfor\u001b[39;00m entry \u001b[38;5;129;01min\u001b[39;00m \u001b[43mos\u001b[49m\u001b[38;5;241;43m.\u001b[39;49m\u001b[43mlistdir\u001b[49m\u001b[43m(\u001b[49m\u001b[43mpath\u001b[49m\u001b[43m)\u001b[49m:\n\u001b[1;32m     41\u001b[0m         full_path \u001b[38;5;241m=\u001b[39m posixpath\u001b[38;5;241m.\u001b[39mjoin(path, entry)\n\u001b[1;32m     42\u001b[0m         \u001b[38;5;28;01mif\u001b[39;00m os\u001b[38;5;241m.\u001b[39mpath\u001b[38;5;241m.\u001b[39misdir(full_path):\n",
      "\u001b[0;31mFileNotFoundError\u001b[0m: [Errno 2] No such file or directory: './datasets/Cityscapes/Cityscapes/Cityspaces/images/train'"
     ]
    }
   ],
   "source": [
    "# TODO: Define here your training and validation loops.\n",
    "from datasets.cityscapes import CityScapes\n",
    "from torch.utils.data import DataLoader\n",
    "import matplotlib.pyplot as plt\n",
    "dataset_path='C:/Users/Federico/Desktop/Universita/1_Magistrale/2_semestre/MLDL/proj/MLDL_project/datasets/Cityscapes/Cityscapes/Cityspaces/'\n",
    "annotation_train=dataset_path+'gtFine/train'\n",
    "image_train=dataset_path+'images/train'\n",
    "\n",
    "annotation_val=dataset_path+'gtFine/val'\n",
    "image_val=dataset_path+'images/val'\n",
    "\n",
    "cityscapes_train = CityScapes(annotations_dir=annotation_train, images_dir=image_train)\n",
    "cityscapes_val = CityScapes(annotations_dir=annotation_val, images_dir=image_val)\n",
    "print(cityscapes_train.__len__())\n",
    "print(cityscapes_val.__len__())\n",
    "print(cityscapes_train.map_index_to_image[5])\n",
    "print(cityscapes_train.map_index_to_annotation[5])\n",
    "#cityscapes_train.list_files_recursive(path=image_train)\n",
    "image,annotation=cityscapes_train.__getitem__(5)\n",
    "fig, axes = plt.subplots(2, 1, figsize=(1, 10))\n",
    "axes[0].imshow(image)\n",
    "axes[1].imshow(annotation,cmap='gray')\n",
    "plt.show()"
   ]
  },
  {
   "cell_type": "code",
   "execution_count": null,
   "id": "bbda7db3-cd44-4b7a-9c97-84978f964c4f",
   "metadata": {},
   "outputs": [],
   "source": []
  }
 ],
 "metadata": {
  "kernelspec": {
   "display_name": "Python 3 (ipykernel)",
   "language": "python",
   "name": "python3"
  },
  "language_info": {
   "codemirror_mode": {
    "name": "ipython",
    "version": 3
   },
   "file_extension": ".py",
   "mimetype": "text/x-python",
   "name": "python",
   "nbconvert_exporter": "python",
   "pygments_lexer": "ipython3",
   "version": "3.8.10"
  }
 },
 "nbformat": 4,
 "nbformat_minor": 5
}
