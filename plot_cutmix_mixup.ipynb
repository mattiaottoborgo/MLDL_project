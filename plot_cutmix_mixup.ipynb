{
 "cells": [
  {
   "cell_type": "markdown",
   "metadata": {},
   "source": [
    "\n",
    "# How to use CutMix and MixUp (for classification purposes)\n",
    "\n",
    "<div class=\"alert alert-info\"><h4>Note</h4><p>Try on [collab](https://colab.research.google.com/github/pytorch/vision/blob/gh-pages/main/_generated_ipynb_notebooks/plot_cutmix_mixup.ipynb)\n",
    "    or `go to the end <sphx_glr_download_auto_examples_transforms_plot_cutmix_mixup.py>` to download the full example code.</p></div>\n",
    "\n",
    ":class:`~torchvision.transforms.v2.CutMix` and\n",
    ":class:`~torchvision.transforms.v2.MixUp` are popular augmentation strategies\n",
    "that can improve classification accuracy.\n",
    "\n",
    "These transforms are slightly different from the rest of the Torchvision\n",
    "transforms, because they expect\n",
    "**batches** of samples as input, not individual images. In this example we'll\n",
    "explain how to use them: after the ``DataLoader``, or as part of a collation\n",
    "function.\n"
   ]
  },
  {
   "cell_type": "code",
   "execution_count": 2,
   "metadata": {
    "collapsed": false,
    "jupyter": {
     "outputs_hidden": false
    }
   },
   "outputs": [],
   "source": [
    "import torch\n",
    "from torchvision.datasets import FakeData\n",
    "from torchvision.transforms import v2\n",
    "\n",
    "\n",
    "NUM_CLASSES = 100"
   ]
  },
  {
   "cell_type": "markdown",
   "metadata": {},
   "source": [
    "## Pre-processing pipeline\n",
    "\n",
    "We'll use a simple but typical image classification pipeline:\n",
    "\n"
   ]
  },
  {
   "cell_type": "code",
   "execution_count": 3,
   "metadata": {
    "collapsed": false,
    "jupyter": {
     "outputs_hidden": false
    }
   },
   "outputs": [
    {
     "name": "stdout",
     "output_type": "stream",
     "text": [
      "type(img) = <class 'torch.Tensor'>, img.dtype = torch.float32, img.shape = torch.Size([3, 224, 224]), label = 67\n"
     ]
    }
   ],
   "source": [
    "preproc = v2.Compose([\n",
    "    v2.PILToTensor(),\n",
    "    v2.RandomResizedCrop(size=(224, 224), antialias=True),\n",
    "    v2.RandomHorizontalFlip(p=0.5),\n",
    "    v2.ToDtype(torch.float32, scale=True),  # to float32 in [0, 1]\n",
    "    v2.Normalize(mean=(0.485, 0.456, 0.406), std=(0.229, 0.224, 0.225)),  # typically from ImageNet\n",
    "])\n",
    "\n",
    "dataset = FakeData(size=1000, num_classes=NUM_CLASSES, transform=preproc)\n",
    "\n",
    "img, label = dataset[0]\n",
    "print(f\"{type(img) = }, {img.dtype = }, {img.shape = }, {label = }\")"
   ]
  },
  {
   "cell_type": "markdown",
   "metadata": {},
   "source": [
    "One important thing to note is that neither CutMix nor MixUp are part of this\n",
    "pre-processing pipeline. We'll add them a bit later once we define the\n",
    "DataLoader. Just as a refresher, this is what the DataLoader and training loop\n",
    "would look like if we weren't using CutMix or MixUp:\n",
    "\n"
   ]
  },
  {
   "cell_type": "code",
   "execution_count": 4,
   "metadata": {
    "collapsed": false,
    "jupyter": {
     "outputs_hidden": false
    }
   },
   "outputs": [
    {
     "name": "stdout",
     "output_type": "stream",
     "text": [
      "images.shape = torch.Size([4, 3, 224, 224]), labels.shape = torch.Size([4])\n",
      "torch.int64\n"
     ]
    }
   ],
   "source": [
    "from torch.utils.data import DataLoader\n",
    "\n",
    "dataloader = DataLoader(dataset, batch_size=4, shuffle=True)\n",
    "\n",
    "for images, labels in dataloader:\n",
    "    print(f\"{images.shape = }, {labels.shape = }\")\n",
    "    print(labels.dtype)\n",
    "    # <rest of the training loop here>\n",
    "    break"
   ]
  },
  {
   "cell_type": "markdown",
   "metadata": {},
   "source": [
    "## Where to use MixUp and CutMix\n",
    "\n",
    "### After the DataLoader\n",
    "\n",
    "Now let's add CutMix and MixUp. The simplest way to do this right after the\n",
    "DataLoader: the Dataloader has already batched the images and labels for us,\n",
    "and this is exactly what these transforms expect as input:\n",
    "\n"
   ]
  },
  {
   "cell_type": "code",
   "execution_count": 15,
   "metadata": {
    "collapsed": false,
    "jupyter": {
     "outputs_hidden": false
    }
   },
   "outputs": [
    {
     "name": "stdout",
     "output_type": "stream",
     "text": [
      "Before CutMix/MixUp: images.shape = torch.Size([4, 3, 224, 224]), labels.shape = torch.Size([4])\n",
      "After CutMix/MixUp: images.shape = torch.Size([4, 3, 224, 224]), labels_cut.shape = torch.Size([4, 100])\n"
     ]
    },
    {
     "data": {
      "text/plain": [
       "tensor([11, 30,  0, 17])"
      ]
     },
     "execution_count": 15,
     "metadata": {},
     "output_type": "execute_result"
    }
   ],
   "source": [
    "dataloader = DataLoader(dataset, batch_size=4, shuffle=True)\n",
    "\n",
    "cutmix = v2.CutMix(num_classes=NUM_CLASSES)\n",
    "mixup = v2.MixUp(num_classes=NUM_CLASSES)\n",
    "cutmix_or_mixup = v2.RandomChoice([cutmix, mixup])\n",
    "from utility_scripts.helpers import plot\n",
    "for images, labels in dataloader:\n",
    "    print(f\"Before CutMix/MixUp: {images.shape = }, {labels.shape = }\")\n",
    "    images, labels_cut = cutmix_or_mixup(images, labels)\n",
    "    print(f\"After CutMix/MixUp: {images.shape = }, {labels_cut.shape = }\")\n",
    "    # <rest of the training loop here>\n",
    "    break\n",
    "labels"
   ]
  },
  {
   "cell_type": "markdown",
   "metadata": {},
   "source": [
    "Note how the labels were also transformed: we went from a batched label of\n",
    "shape (batch_size,) to a tensor of shape (batch_size, num_classes). The\n",
    "transformed labels can still be passed as-is to a loss function like\n",
    ":func:`torch.nn.functional.cross_entropy`.\n",
    "\n",
    "### As part of the collation function\n",
    "\n",
    "Passing the transforms after the DataLoader is the simplest way to use CutMix\n",
    "and MixUp, but one disadvantage is that it does not take advantage of the\n",
    "DataLoader multi-processing. For that, we can pass those transforms as part of\n",
    "the collation function (refer to the [PyTorch docs](https://pytorch.org/docs/stable/data.html#dataloader-collate-fn) to learn\n",
    "more about collation).\n",
    "\n"
   ]
  },
  {
   "cell_type": "code",
   "execution_count": null,
   "metadata": {
    "collapsed": false,
    "jupyter": {
     "outputs_hidden": false
    }
   },
   "outputs": [],
   "source": [
    "from torch.utils.data import default_collate\n",
    "\n",
    "\n",
    "def collate_fn(batch):\n",
    "    return cutmix_or_mixup(*default_collate(batch))\n",
    "\n",
    "\n",
    "dataloader = DataLoader(dataset, batch_size=4, shuffle=True, num_workers=2, collate_fn=collate_fn)\n",
    "\n",
    "for images, labels in dataloader:\n",
    "    print(f\"{images.shape = }, {labels.shape = }\")\n",
    "    # No need to call cutmix_or_mixup, it's already been called as part of the DataLoader!\n",
    "    # <rest of the training loop here>\n",
    "    break"
   ]
  },
  {
   "cell_type": "markdown",
   "metadata": {},
   "source": [
    "## Non-standard input format\n",
    "\n",
    "So far we've used a typical sample structure where we pass ``(images,\n",
    "labels)`` as inputs. MixUp and CutMix will magically work by default with most\n",
    "common sample structures: tuples where the second parameter is a tensor label,\n",
    "or dict with a \"label[s]\" key. Look at the documentation of the\n",
    "``labels_getter`` parameter for more details.\n",
    "\n",
    "If your samples have a different structure, you can still use CutMix and MixUp\n",
    "by passing a callable to the ``labels_getter`` parameter. For example:\n",
    "\n"
   ]
  },
  {
   "cell_type": "code",
   "execution_count": null,
   "metadata": {
    "collapsed": false,
    "jupyter": {
     "outputs_hidden": false
    }
   },
   "outputs": [],
   "source": [
    "batch = {\n",
    "    \"imgs\": torch.rand(4, 3, 224, 224),\n",
    "    \"target\": {\n",
    "        \"classes\": torch.randint(0, NUM_CLASSES, size=(4,)),\n",
    "        \"some_other_key\": \"this is going to be passed-through\"\n",
    "    }\n",
    "}\n",
    "\n",
    "\n",
    "def labels_getter(batch):\n",
    "    return batch[\"target\"][\"classes\"]\n",
    "\n",
    "\n",
    "out = v2.CutMix(num_classes=NUM_CLASSES, labels_getter=labels_getter)(batch)\n",
    "print(f\"{out['imgs'].shape = }, {out['target']['classes'].shape = }\")"
   ]
  },
  {
   "cell_type": "code",
   "execution_count": null,
   "metadata": {},
   "outputs": [],
   "source": []
  }
 ],
 "metadata": {
  "kernelspec": {
   "display_name": "Python 3 (ipykernel)",
   "language": "python",
   "name": "python3"
  },
  "language_info": {
   "codemirror_mode": {
    "name": "ipython",
    "version": 3
   },
   "file_extension": ".py",
   "mimetype": "text/x-python",
   "name": "python",
   "nbconvert_exporter": "python",
   "pygments_lexer": "ipython3",
   "version": "3.8.10"
  }
 },
 "nbformat": 4,
 "nbformat_minor": 4
}
